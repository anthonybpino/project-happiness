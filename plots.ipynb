{
 "cells": [
  {
   "cell_type": "code",
   "execution_count": 1,
   "metadata": {},
   "outputs": [],
   "source": [
    "import pandas as pd\n",
    "import plotly.express as px\n",
    "import numpy as np\n",
    "import seaborn as sns\n",
    "import matplotlib.pyplot as plt\n",
    "import plotly.graph_objects as go"
   ]
  },
  {
   "cell_type": "code",
   "execution_count": 3,
   "metadata": {},
   "outputs": [
    {
     "data": {
      "text/html": [
       "<div>\n",
       "<style scoped>\n",
       "    .dataframe tbody tr th:only-of-type {\n",
       "        vertical-align: middle;\n",
       "    }\n",
       "\n",
       "    .dataframe tbody tr th {\n",
       "        vertical-align: top;\n",
       "    }\n",
       "\n",
       "    .dataframe thead th {\n",
       "        text-align: right;\n",
       "    }\n",
       "</style>\n",
       "<table border=\"1\" class=\"dataframe\">\n",
       "  <thead>\n",
       "    <tr style=\"text-align: right;\">\n",
       "      <th></th>\n",
       "      <th>country</th>\n",
       "      <th>happiness_score</th>\n",
       "      <th>gdp_per_capita</th>\n",
       "      <th>social_support</th>\n",
       "      <th>healthy_life_expectancy</th>\n",
       "      <th>freedom_to_make_life_choices</th>\n",
       "      <th>generosity</th>\n",
       "      <th>perceptions_of_corruption</th>\n",
       "      <th>rank</th>\n",
       "      <th>region</th>\n",
       "      <th>sub_region</th>\n",
       "      <th>iso_alpha</th>\n",
       "    </tr>\n",
       "  </thead>\n",
       "  <tbody>\n",
       "    <tr>\n",
       "      <th>0</th>\n",
       "      <td>Finland</td>\n",
       "      <td>7.804</td>\n",
       "      <td>10.792</td>\n",
       "      <td>0.969</td>\n",
       "      <td>71.150</td>\n",
       "      <td>0.961</td>\n",
       "      <td>-0.019</td>\n",
       "      <td>0.182</td>\n",
       "      <td>1</td>\n",
       "      <td>Europe</td>\n",
       "      <td>Northern Europe</td>\n",
       "      <td>FIN</td>\n",
       "    </tr>\n",
       "    <tr>\n",
       "      <th>1</th>\n",
       "      <td>Denmark</td>\n",
       "      <td>7.586</td>\n",
       "      <td>10.962</td>\n",
       "      <td>0.954</td>\n",
       "      <td>71.250</td>\n",
       "      <td>0.934</td>\n",
       "      <td>0.134</td>\n",
       "      <td>0.196</td>\n",
       "      <td>2</td>\n",
       "      <td>Europe</td>\n",
       "      <td>Northern Europe</td>\n",
       "      <td>DNK</td>\n",
       "    </tr>\n",
       "    <tr>\n",
       "      <th>2</th>\n",
       "      <td>Iceland</td>\n",
       "      <td>7.530</td>\n",
       "      <td>10.896</td>\n",
       "      <td>0.983</td>\n",
       "      <td>72.050</td>\n",
       "      <td>0.936</td>\n",
       "      <td>0.211</td>\n",
       "      <td>0.668</td>\n",
       "      <td>3</td>\n",
       "      <td>Europe</td>\n",
       "      <td>Northern Europe</td>\n",
       "      <td>ISL</td>\n",
       "    </tr>\n",
       "    <tr>\n",
       "      <th>3</th>\n",
       "      <td>Israel</td>\n",
       "      <td>7.473</td>\n",
       "      <td>10.639</td>\n",
       "      <td>0.943</td>\n",
       "      <td>72.697</td>\n",
       "      <td>0.809</td>\n",
       "      <td>-0.023</td>\n",
       "      <td>0.708</td>\n",
       "      <td>4</td>\n",
       "      <td>Asia</td>\n",
       "      <td>Western Asia</td>\n",
       "      <td>ISR</td>\n",
       "    </tr>\n",
       "    <tr>\n",
       "      <th>4</th>\n",
       "      <td>Netherlands</td>\n",
       "      <td>7.403</td>\n",
       "      <td>10.942</td>\n",
       "      <td>0.930</td>\n",
       "      <td>71.550</td>\n",
       "      <td>0.887</td>\n",
       "      <td>0.213</td>\n",
       "      <td>0.379</td>\n",
       "      <td>5</td>\n",
       "      <td>Europe</td>\n",
       "      <td>Western Europe</td>\n",
       "      <td>NLD</td>\n",
       "    </tr>\n",
       "  </tbody>\n",
       "</table>\n",
       "</div>"
      ],
      "text/plain": [
       "       country  happiness_score  gdp_per_capita  social_support  \\\n",
       "0      Finland            7.804          10.792           0.969   \n",
       "1      Denmark            7.586          10.962           0.954   \n",
       "2      Iceland            7.530          10.896           0.983   \n",
       "3       Israel            7.473          10.639           0.943   \n",
       "4  Netherlands            7.403          10.942           0.930   \n",
       "\n",
       "   healthy_life_expectancy  freedom_to_make_life_choices  generosity  \\\n",
       "0                   71.150                         0.961      -0.019   \n",
       "1                   71.250                         0.934       0.134   \n",
       "2                   72.050                         0.936       0.211   \n",
       "3                   72.697                         0.809      -0.023   \n",
       "4                   71.550                         0.887       0.213   \n",
       "\n",
       "   perceptions_of_corruption  rank  region       sub_region iso_alpha  \n",
       "0                      0.182     1  Europe  Northern Europe       FIN  \n",
       "1                      0.196     2  Europe  Northern Europe       DNK  \n",
       "2                      0.668     3  Europe  Northern Europe       ISL  \n",
       "3                      0.708     4    Asia     Western Asia       ISR  \n",
       "4                      0.379     5  Europe   Western Europe       NLD  "
      ]
     },
     "execution_count": 3,
     "metadata": {},
     "output_type": "execute_result"
    }
   ],
   "source": [
    "df = pd.read_csv(\"output/happiness_merged_cleaned.csv\")\n",
    "df.head()"
   ]
  },
  {
   "cell_type": "code",
   "execution_count": 4,
   "metadata": {},
   "outputs": [
    {
     "data": {
      "application/vnd.plotly.v1+json": {
       "config": {
        "plotlyServerURL": "https://plot.ly"
       },
       "data": [
        {
         "branchvalues": "total",
         "customdata": [
          [
           1.859
          ],
          [
           5.277
          ],
          [
           5.329
          ],
          [
           6.024
          ],
          [
           5.342
          ],
          [
           7.095
          ],
          [
           7.097000000000001
          ],
          [
           6.173000000000001
          ],
          [
           4.282
          ],
          [
           6.859
          ],
          [
           4.374
          ],
          [
           5.684
          ],
          [
           5.633
          ],
          [
           3.435
          ],
          [
           6.125
          ],
          [
           5.466
          ],
          [
           4.638
          ],
          [
           4.393
          ],
          [
           4.973
          ],
          [
           6.961
          ],
          [
           4.397
          ],
          [
           6.334
          ],
          [
           5.818
          ],
          [
           5.63
          ],
          [
           3.545
          ],
          [
           5.267
          ],
          [
           3.207
          ],
          [
           6.609
          ],
          [
           6.125
          ],
          [
           6.130000000000001
          ],
          [
           6.845000000000001
          ],
          [
           7.586
          ],
          [
           5.569
          ],
          [
           5.559
          ],
          [
           4.17
          ],
          [
           6.122
          ],
          [
           6.455
          ],
          [
           4.091
          ],
          [
           7.804
          ],
          [
           6.661
          ],
          [
           5.035
          ],
          [
           4.279
          ],
          [
           5.109
          ],
          [
           6.892
          ],
          [
           4.605
          ],
          [
           5.931
          ],
          [
           6.15
          ],
          [
           5.072
          ],
          [
           6.023
          ],
          [
           5.308
          ],
          [
           6.041
          ],
          [
           7.53
          ],
          [
           4.036
          ],
          [
           5.277
          ],
          [
           4.876
          ],
          [
           4.941
          ],
          [
           6.911
          ],
          [
           7.473
          ],
          [
           6.405
          ],
          [
           5.053
          ],
          [
           5.703000000000001
          ],
          [
           6.129
          ],
          [
           4.12
          ],
          [
           6.144
          ],
          [
           4.487
          ],
          [
           6.368
          ],
          [
           5.824999999999999
          ],
          [
           5.111
          ],
          [
           6.213
          ],
          [
           2.392
          ],
          [
           4.042
          ],
          [
           6.763
          ],
          [
           7.228
          ],
          [
           4.019
          ],
          [
           3.495
          ],
          [
           6.012
          ],
          [
           4.198
          ],
          [
           6.3
          ],
          [
           4.724
          ],
          [
           5.902
          ],
          [
           6.33
          ],
          [
           5.818999999999999
          ],
          [
           5.839999999999999
          ],
          [
           5.722000000000001
          ],
          [
           4.903
          ],
          [
           4.954
          ],
          [
           4.372
          ],
          [
           4.631
          ],
          [
           5.36
          ],
          [
           7.403
          ],
          [
           7.123
          ],
          [
           6.259
          ],
          [
           4.501
          ],
          [
           4.981
          ],
          [
           5.254
          ],
          [
           7.315
          ],
          [
           4.555
          ],
          [
           6.265
          ],
          [
           5.738000000000001
          ],
          [
           5.526
          ],
          [
           5.523
          ],
          [
           6.26
          ],
          [
           5.968
          ],
          [
           6.589
          ],
          [
           5.661
          ],
          [
           6.463
          ],
          [
           4.855
          ],
          [
           6.144
          ],
          [
           3.1379999999999995
          ],
          [
           6.587
          ],
          [
           6.469
          ],
          [
           6.65
          ],
          [
           5.275
          ],
          [
           5.951
          ],
          [
           6.435999999999999
          ],
          [
           4.442
          ],
          [
           4.908
          ],
          [
           7.395
          ],
          [
           7.24
          ],
          [
           6.535
          ],
          [
           5.33
          ],
          [
           3.694
          ],
          [
           5.842999999999999
          ],
          [
           4.137
          ],
          [
           4.497
          ],
          [
           4.614
          ],
          [
           4.432
          ],
          [
           5.071
          ],
          [
           6.570999999999999
          ],
          [
           6.796
          ],
          [
           6.894
          ],
          [
           6.494
          ],
          [
           6.014
          ],
          [
           5.211
          ],
          [
           5.762999999999999
          ],
          [
           3.9820000000000007
          ],
          [
           3.204
          ],
          [
           7.109027570685047
          ],
          [
           5.844655642774416
          ],
          [
           5.953032657879205
          ],
          [
           6.073256985300898
          ],
          [
           5.989218305323981
          ],
          [
           4.764779035927826
          ],
          [
           6.927661999278239
          ],
          [
           7.111972388650237
          ],
          [
           5.518932570937582
          ],
          [
           4.456479632777966
          ],
          [
           6.046199595975093
          ],
          [
           4.453785849090452
          ],
          [
           5.267
          ],
          [
           5.660421227971854
          ],
          [
           7.062532766302145
          ],
          [
           4.490925259393128
          ],
          [
           6.091428331106046
          ],
          [
           5.523307594540786
          ],
          [
           6.5231150595891405
          ],
          [
           7.109027570685047
          ]
         ],
         "domain": {
          "x": [
           0,
           1
          ],
          "y": [
           0,
           1
          ]
         },
         "hovertemplate": "labels=%{label}<br>happiness_score_sum=%{value}<br>parent=%{parent}<br>id=%{id}<br>happiness_score=%{color}<extra></extra>",
         "ids": [
          "Asia/Southern Asia/Afghanistan",
          "Europe/Southern Europe/Albania",
          "Africa/Northern Africa/Algeria",
          "Americas/Latin America and the Caribbean/Argentina",
          "Asia/Western Asia/Armenia",
          "Oceania/Australia and New Zealand/Australia",
          "Europe/Western Europe/Austria",
          "Asia/Western Asia/Bahrain",
          "Asia/Southern Asia/Bangladesh",
          "Europe/Western Europe/Belgium",
          "Africa/Sub-Saharan Africa/Benin",
          "Americas/Latin America and the Caribbean/Bolivia",
          "Europe/Southern Europe/Bosnia and Herzegovina",
          "Africa/Sub-Saharan Africa/Botswana",
          "Americas/Latin America and the Caribbean/Brazil",
          "Europe/Eastern Europe/Bulgaria",
          "Africa/Sub-Saharan Africa/Burkina Faso",
          "Asia/South-eastern Asia/Cambodia",
          "Africa/Sub-Saharan Africa/Cameroon",
          "Americas/Northern America/Canada",
          "Africa/Sub-Saharan Africa/Chad",
          "Americas/Latin America and the Caribbean/Chile",
          "Asia/Eastern Asia/China",
          "Americas/Latin America and the Caribbean/Colombia",
          "Africa/Sub-Saharan Africa/Comoros",
          "Europe/Sub-Saharan Africa/Congo (Brazzaville)",
          "Africa/Sub-Saharan Africa/Congo (Kinshasa)",
          "Americas/Latin America and the Caribbean/Costa Rica",
          "Europe/Southern Europe/Croatia",
          "Asia/Western Asia/Cyprus",
          "Europe/Eastern Europe/Czechia",
          "Europe/Northern Europe/Denmark",
          "Americas/Latin America and the Caribbean/Dominican Republic",
          "Americas/Latin America and the Caribbean/Ecuador",
          "Africa/Northern Africa/Egypt",
          "Americas/Latin America and the Caribbean/El Salvador",
          "Europe/Northern Europe/Estonia",
          "Africa/Sub-Saharan Africa/Ethiopia",
          "Europe/Northern Europe/Finland",
          "Europe/Western Europe/France",
          "Africa/Sub-Saharan Africa/Gabon",
          "Africa/Sub-Saharan Africa/Gambia",
          "Asia/Western Asia/Georgia",
          "Europe/Western Europe/Germany",
          "Africa/Sub-Saharan Africa/Ghana",
          "Europe/Southern Europe/Greece",
          "Americas/Latin America and the Caribbean/Guatemala",
          "Africa/Sub-Saharan Africa/Guinea",
          "Americas/Latin America and the Caribbean/Honduras",
          "Asia/Eastern Asia/Hong Kong S.A.R. of China",
          "Europe/Eastern Europe/Hungary",
          "Europe/Northern Europe/Iceland",
          "Asia/Southern Asia/India",
          "Asia/South-eastern Asia/Indonesia",
          "Asia/Southern Asia/Iran",
          "Asia/Western Asia/Iraq",
          "Europe/Northern Europe/Ireland",
          "Asia/Western Asia/Israel",
          "Europe/Southern Europe/Italy",
          "Africa/Sub-Saharan Africa/Ivory Coast",
          "Americas/Latin America and the Caribbean/Jamaica",
          "Asia/Eastern Asia/Japan",
          "Asia/Western Asia/Jordan",
          "Asia/Central Asia/Kazakhstan",
          "Africa/Sub-Saharan Africa/Kenya",
          "Europe/Southern Europe/Kosovo",
          "Asia/Central Asia/Kyrgyzstan",
          "Asia/South-eastern Asia/Laos",
          "Europe/Northern Europe/Latvia",
          "Asia/Western Asia/Lebanon",
          "Africa/Sub-Saharan Africa/Liberia",
          "Europe/Northern Europe/Lithuania",
          "Europe/Western Europe/Luxembourg",
          "Africa/Sub-Saharan Africa/Madagascar",
          "Africa/Sub-Saharan Africa/Malawi",
          "Asia/South-eastern Asia/Malaysia",
          "Africa/Sub-Saharan Africa/Mali",
          "Europe/Southern Europe/Malta",
          "Africa/Sub-Saharan Africa/Mauritania",
          "Africa/Sub-Saharan Africa/Mauritius",
          "Americas/Latin America and the Caribbean/Mexico",
          "Europe/Eastern Europe/Moldova",
          "Asia/Eastern Asia/Mongolia",
          "Europe/Southern Europe/Montenegro",
          "Africa/Northern Africa/Morocco",
          "Africa/Sub-Saharan Africa/Mozambique",
          "Asia/South-eastern Asia/Myanmar",
          "Africa/Sub-Saharan Africa/Namibia",
          "Asia/Southern Asia/Nepal",
          "Europe/Western Europe/Netherlands",
          "Oceania/Australia and New Zealand/New Zealand",
          "Americas/Latin America and the Caribbean/Nicaragua",
          "Africa/Sub-Saharan Africa/Niger",
          "Africa/Sub-Saharan Africa/Nigeria",
          "Europe/Southern Europe/North Macedonia",
          "Europe/Northern Europe/Norway",
          "Asia/Southern Asia/Pakistan",
          "Americas/Latin America and the Caribbean/Panama",
          "Americas/Latin America and the Caribbean/Paraguay",
          "Americas/Latin America and the Caribbean/Peru",
          "Asia/South-eastern Asia/Philippines",
          "Europe/Eastern Europe/Poland",
          "Europe/Southern Europe/Portugal",
          "Europe/Eastern Europe/Romania",
          "Europe/Eastern Europe/Russia",
          "Asia/Western Asia/Saudi Arabia",
          "Africa/Sub-Saharan Africa/Senegal",
          "Europe/Southern Europe/Serbia",
          "Africa/Sub-Saharan Africa/Sierra Leone",
          "Asia/South-eastern Asia/Singapore",
          "Europe/Eastern Europe/Slovakia",
          "Europe/Southern Europe/Slovenia",
          "Africa/Sub-Saharan Africa/South Africa",
          "Asia/Eastern Asia/South Korea",
          "Europe/Southern Europe/Spain",
          "Asia/Southern Asia/Sri Lanka",
          "Asia/Western Asia/State of Palestine",
          "Europe/Northern Europe/Sweden",
          "Europe/Western Europe/Switzerland",
          "Asia/Eastern Asia/Taiwan Province of China",
          "Asia/Central Asia/Tajikistan",
          "Africa/Sub-Saharan Africa/Tanzania",
          "Asia/South-eastern Asia/Thailand",
          "Africa/Sub-Saharan Africa/Togo",
          "Africa/Northern Africa/Tunisia",
          "Asia/Western Asia/Turkiye",
          "Africa/Sub-Saharan Africa/Uganda",
          "Europe/Eastern Europe/Ukraine",
          "Asia/Western Asia/United Arab Emirates",
          "Europe/Northern Europe/United Kingdom",
          "Americas/Northern America/United States",
          "Americas/Latin America and the Caribbean/Uruguay",
          "Asia/Central Asia/Uzbekistan",
          "Americas/Latin America and the Caribbean/Venezuela",
          "Asia/South-eastern Asia/Vietnam",
          "Africa/Sub-Saharan Africa/Zambia",
          "Africa/Sub-Saharan Africa/Zimbabwe",
          "Oceania/Australia and New Zealand",
          "Asia/Central Asia",
          "Asia/Eastern Asia",
          "Europe/Eastern Europe",
          "Americas/Latin America and the Caribbean",
          "Africa/Northern Africa",
          "Americas/Northern America",
          "Europe/Northern Europe",
          "Asia/South-eastern Asia",
          "Asia/Southern Asia",
          "Europe/Southern Europe",
          "Africa/Sub-Saharan Africa",
          "Europe/Sub-Saharan Africa",
          "Asia/Western Asia",
          "Europe/Western Europe",
          "Africa",
          "Americas",
          "Asia",
          "Europe",
          "Oceania"
         ],
         "labels": [
          "Afghanistan",
          "Albania",
          "Algeria",
          "Argentina",
          "Armenia",
          "Australia",
          "Austria",
          "Bahrain",
          "Bangladesh",
          "Belgium",
          "Benin",
          "Bolivia",
          "Bosnia and Herzegovina",
          "Botswana",
          "Brazil",
          "Bulgaria",
          "Burkina Faso",
          "Cambodia",
          "Cameroon",
          "Canada",
          "Chad",
          "Chile",
          "China",
          "Colombia",
          "Comoros",
          "Congo (Brazzaville)",
          "Congo (Kinshasa)",
          "Costa Rica",
          "Croatia",
          "Cyprus",
          "Czechia",
          "Denmark",
          "Dominican Republic",
          "Ecuador",
          "Egypt",
          "El Salvador",
          "Estonia",
          "Ethiopia",
          "Finland",
          "France",
          "Gabon",
          "Gambia",
          "Georgia",
          "Germany",
          "Ghana",
          "Greece",
          "Guatemala",
          "Guinea",
          "Honduras",
          "Hong Kong S.A.R. of China",
          "Hungary",
          "Iceland",
          "India",
          "Indonesia",
          "Iran",
          "Iraq",
          "Ireland",
          "Israel",
          "Italy",
          "Ivory Coast",
          "Jamaica",
          "Japan",
          "Jordan",
          "Kazakhstan",
          "Kenya",
          "Kosovo",
          "Kyrgyzstan",
          "Laos",
          "Latvia",
          "Lebanon",
          "Liberia",
          "Lithuania",
          "Luxembourg",
          "Madagascar",
          "Malawi",
          "Malaysia",
          "Mali",
          "Malta",
          "Mauritania",
          "Mauritius",
          "Mexico",
          "Moldova",
          "Mongolia",
          "Montenegro",
          "Morocco",
          "Mozambique",
          "Myanmar",
          "Namibia",
          "Nepal",
          "Netherlands",
          "New Zealand",
          "Nicaragua",
          "Niger",
          "Nigeria",
          "North Macedonia",
          "Norway",
          "Pakistan",
          "Panama",
          "Paraguay",
          "Peru",
          "Philippines",
          "Poland",
          "Portugal",
          "Romania",
          "Russia",
          "Saudi Arabia",
          "Senegal",
          "Serbia",
          "Sierra Leone",
          "Singapore",
          "Slovakia",
          "Slovenia",
          "South Africa",
          "South Korea",
          "Spain",
          "Sri Lanka",
          "State of Palestine",
          "Sweden",
          "Switzerland",
          "Taiwan Province of China",
          "Tajikistan",
          "Tanzania",
          "Thailand",
          "Togo",
          "Tunisia",
          "Turkiye",
          "Uganda",
          "Ukraine",
          "United Arab Emirates",
          "United Kingdom",
          "United States",
          "Uruguay",
          "Uzbekistan",
          "Venezuela",
          "Vietnam",
          "Zambia",
          "Zimbabwe",
          "Australia and New Zealand",
          "Central Asia",
          "Eastern Asia",
          "Eastern Europe",
          "Latin America and the Caribbean",
          "Northern Africa",
          "Northern America",
          "Northern Europe",
          "South-eastern Asia",
          "Southern Asia",
          "Southern Europe",
          "Sub-Saharan Africa",
          "Sub-Saharan Africa",
          "Western Asia",
          "Western Europe",
          "Africa",
          "Americas",
          "Asia",
          "Europe",
          "Oceania"
         ],
         "marker": {
          "coloraxis": "coloraxis",
          "colors": [
           1.859,
           5.277,
           5.329,
           6.024,
           5.342,
           7.095,
           7.097000000000001,
           6.173000000000001,
           4.282,
           6.859,
           4.374,
           5.684,
           5.633,
           3.435,
           6.125,
           5.466,
           4.638,
           4.393,
           4.973,
           6.961,
           4.397,
           6.334,
           5.818,
           5.63,
           3.545,
           5.267,
           3.207,
           6.609,
           6.125,
           6.130000000000001,
           6.845000000000001,
           7.586,
           5.569,
           5.559,
           4.17,
           6.122,
           6.455,
           4.091,
           7.804,
           6.661,
           5.035,
           4.279,
           5.109,
           6.892,
           4.605,
           5.931,
           6.15,
           5.072,
           6.023,
           5.308,
           6.041,
           7.53,
           4.036,
           5.277,
           4.876,
           4.941,
           6.911,
           7.473,
           6.405,
           5.053,
           5.703000000000001,
           6.129,
           4.12,
           6.144,
           4.487,
           6.368,
           5.824999999999999,
           5.111,
           6.213,
           2.392,
           4.042,
           6.763,
           7.228,
           4.019,
           3.495,
           6.012,
           4.198,
           6.3,
           4.724,
           5.902,
           6.33,
           5.818999999999999,
           5.839999999999999,
           5.722000000000001,
           4.903,
           4.954,
           4.372,
           4.631,
           5.36,
           7.403,
           7.123,
           6.259,
           4.501,
           4.981,
           5.254,
           7.315,
           4.555,
           6.265,
           5.738000000000001,
           5.526,
           5.523,
           6.26,
           5.968,
           6.589,
           5.661,
           6.463,
           4.855,
           6.144,
           3.1379999999999995,
           6.587,
           6.469,
           6.65,
           5.275,
           5.951,
           6.435999999999999,
           4.442,
           4.908,
           7.395,
           7.24,
           6.535,
           5.33,
           3.694,
           5.842999999999999,
           4.137,
           4.497,
           4.614,
           4.432,
           5.071,
           6.570999999999999,
           6.796,
           6.894,
           6.494,
           6.014,
           5.211,
           5.762999999999999,
           3.9820000000000007,
           3.204,
           7.109027570685047,
           5.844655642774416,
           5.953032657879205,
           6.073256985300898,
           5.989218305323981,
           4.764779035927826,
           6.927661999278239,
           7.111972388650237,
           5.518932570937582,
           4.456479632777966,
           6.046199595975093,
           4.453785849090452,
           5.267,
           5.660421227971854,
           7.062532766302145,
           4.490925259393128,
           6.091428331106046,
           5.523307594540786,
           6.5231150595891405,
           7.109027570685047
          ]
         },
         "name": "",
         "parents": [
          "Asia/Southern Asia",
          "Europe/Southern Europe",
          "Africa/Northern Africa",
          "Americas/Latin America and the Caribbean",
          "Asia/Western Asia",
          "Oceania/Australia and New Zealand",
          "Europe/Western Europe",
          "Asia/Western Asia",
          "Asia/Southern Asia",
          "Europe/Western Europe",
          "Africa/Sub-Saharan Africa",
          "Americas/Latin America and the Caribbean",
          "Europe/Southern Europe",
          "Africa/Sub-Saharan Africa",
          "Americas/Latin America and the Caribbean",
          "Europe/Eastern Europe",
          "Africa/Sub-Saharan Africa",
          "Asia/South-eastern Asia",
          "Africa/Sub-Saharan Africa",
          "Americas/Northern America",
          "Africa/Sub-Saharan Africa",
          "Americas/Latin America and the Caribbean",
          "Asia/Eastern Asia",
          "Americas/Latin America and the Caribbean",
          "Africa/Sub-Saharan Africa",
          "Europe/Sub-Saharan Africa",
          "Africa/Sub-Saharan Africa",
          "Americas/Latin America and the Caribbean",
          "Europe/Southern Europe",
          "Asia/Western Asia",
          "Europe/Eastern Europe",
          "Europe/Northern Europe",
          "Americas/Latin America and the Caribbean",
          "Americas/Latin America and the Caribbean",
          "Africa/Northern Africa",
          "Americas/Latin America and the Caribbean",
          "Europe/Northern Europe",
          "Africa/Sub-Saharan Africa",
          "Europe/Northern Europe",
          "Europe/Western Europe",
          "Africa/Sub-Saharan Africa",
          "Africa/Sub-Saharan Africa",
          "Asia/Western Asia",
          "Europe/Western Europe",
          "Africa/Sub-Saharan Africa",
          "Europe/Southern Europe",
          "Americas/Latin America and the Caribbean",
          "Africa/Sub-Saharan Africa",
          "Americas/Latin America and the Caribbean",
          "Asia/Eastern Asia",
          "Europe/Eastern Europe",
          "Europe/Northern Europe",
          "Asia/Southern Asia",
          "Asia/South-eastern Asia",
          "Asia/Southern Asia",
          "Asia/Western Asia",
          "Europe/Northern Europe",
          "Asia/Western Asia",
          "Europe/Southern Europe",
          "Africa/Sub-Saharan Africa",
          "Americas/Latin America and the Caribbean",
          "Asia/Eastern Asia",
          "Asia/Western Asia",
          "Asia/Central Asia",
          "Africa/Sub-Saharan Africa",
          "Europe/Southern Europe",
          "Asia/Central Asia",
          "Asia/South-eastern Asia",
          "Europe/Northern Europe",
          "Asia/Western Asia",
          "Africa/Sub-Saharan Africa",
          "Europe/Northern Europe",
          "Europe/Western Europe",
          "Africa/Sub-Saharan Africa",
          "Africa/Sub-Saharan Africa",
          "Asia/South-eastern Asia",
          "Africa/Sub-Saharan Africa",
          "Europe/Southern Europe",
          "Africa/Sub-Saharan Africa",
          "Africa/Sub-Saharan Africa",
          "Americas/Latin America and the Caribbean",
          "Europe/Eastern Europe",
          "Asia/Eastern Asia",
          "Europe/Southern Europe",
          "Africa/Northern Africa",
          "Africa/Sub-Saharan Africa",
          "Asia/South-eastern Asia",
          "Africa/Sub-Saharan Africa",
          "Asia/Southern Asia",
          "Europe/Western Europe",
          "Oceania/Australia and New Zealand",
          "Americas/Latin America and the Caribbean",
          "Africa/Sub-Saharan Africa",
          "Africa/Sub-Saharan Africa",
          "Europe/Southern Europe",
          "Europe/Northern Europe",
          "Asia/Southern Asia",
          "Americas/Latin America and the Caribbean",
          "Americas/Latin America and the Caribbean",
          "Americas/Latin America and the Caribbean",
          "Asia/South-eastern Asia",
          "Europe/Eastern Europe",
          "Europe/Southern Europe",
          "Europe/Eastern Europe",
          "Europe/Eastern Europe",
          "Asia/Western Asia",
          "Africa/Sub-Saharan Africa",
          "Europe/Southern Europe",
          "Africa/Sub-Saharan Africa",
          "Asia/South-eastern Asia",
          "Europe/Eastern Europe",
          "Europe/Southern Europe",
          "Africa/Sub-Saharan Africa",
          "Asia/Eastern Asia",
          "Europe/Southern Europe",
          "Asia/Southern Asia",
          "Asia/Western Asia",
          "Europe/Northern Europe",
          "Europe/Western Europe",
          "Asia/Eastern Asia",
          "Asia/Central Asia",
          "Africa/Sub-Saharan Africa",
          "Asia/South-eastern Asia",
          "Africa/Sub-Saharan Africa",
          "Africa/Northern Africa",
          "Asia/Western Asia",
          "Africa/Sub-Saharan Africa",
          "Europe/Eastern Europe",
          "Asia/Western Asia",
          "Europe/Northern Europe",
          "Americas/Northern America",
          "Americas/Latin America and the Caribbean",
          "Asia/Central Asia",
          "Americas/Latin America and the Caribbean",
          "Asia/South-eastern Asia",
          "Africa/Sub-Saharan Africa",
          "Africa/Sub-Saharan Africa",
          "Oceania",
          "Asia",
          "Asia",
          "Europe",
          "Americas",
          "Africa",
          "Americas",
          "Europe",
          "Asia",
          "Asia",
          "Europe",
          "Africa",
          "Europe",
          "Asia",
          "Europe",
          "",
          "",
          "",
          "",
          ""
         ],
         "type": "sunburst",
         "values": [
          1.859,
          5.277,
          5.329,
          6.024,
          5.342,
          7.095,
          7.097,
          6.173,
          4.282,
          6.859,
          4.374,
          5.684,
          5.633,
          3.435,
          6.125,
          5.466,
          4.638,
          4.393,
          4.973,
          6.961,
          4.397,
          6.334,
          5.818,
          5.63,
          3.545,
          5.267,
          3.207,
          6.609,
          6.125,
          6.13,
          6.845,
          7.586,
          5.569,
          5.559,
          4.17,
          6.122,
          6.455,
          4.091,
          7.804,
          6.661,
          5.035,
          4.279,
          5.109,
          6.892,
          4.605,
          5.931,
          6.15,
          5.072,
          6.023,
          5.308,
          6.041,
          7.53,
          4.036,
          5.277,
          4.876,
          4.941,
          6.911,
          7.473,
          6.405,
          5.053,
          5.703,
          6.129,
          4.12,
          6.144,
          4.487,
          6.368,
          5.825,
          5.111,
          6.213,
          2.392,
          4.042,
          6.763,
          7.228,
          4.019,
          3.495,
          6.012,
          4.198,
          6.3,
          4.724,
          5.902,
          6.33,
          5.819,
          5.84,
          5.722,
          4.903,
          4.954,
          4.372,
          4.631,
          5.36,
          7.403,
          7.123,
          6.259,
          4.501,
          4.981,
          5.254,
          7.315,
          4.555,
          6.265,
          5.738,
          5.526,
          5.523,
          6.26,
          5.968,
          6.589,
          5.661,
          6.463,
          4.855,
          6.144,
          3.138,
          6.587,
          6.469,
          6.65,
          5.275,
          5.951,
          6.436,
          4.442,
          4.908,
          7.395,
          7.24,
          6.535,
          5.33,
          3.694,
          5.843,
          4.137,
          4.497,
          4.614,
          4.432,
          5.071,
          6.571,
          6.796,
          6.894,
          6.494,
          6.014,
          5.211,
          5.763,
          3.982,
          3.204,
          14.218,
          23.313000000000002,
          35.580999999999996,
          54.221000000000004,
          113.355,
          18.899,
          13.855,
          70.768,
          48.881,
          29.41,
          78.213,
          139.355,
          5.267,
          64.236,
          49.38,
          158.254,
          127.21000000000001,
          201.421,
          257.849,
          14.218
         ]
        }
       ],
       "layout": {
        "coloraxis": {
         "colorbar": {
          "title": {
           "text": "happiness_score"
          }
         },
         "colorscale": [
          [
           0,
           "rgb(3, 35, 51)"
          ],
          [
           0.09090909090909091,
           "rgb(13, 48, 100)"
          ],
          [
           0.18181818181818182,
           "rgb(53, 50, 155)"
          ],
          [
           0.2727272727272727,
           "rgb(93, 62, 153)"
          ],
          [
           0.36363636363636365,
           "rgb(126, 77, 143)"
          ],
          [
           0.45454545454545453,
           "rgb(158, 89, 135)"
          ],
          [
           0.5454545454545454,
           "rgb(193, 100, 121)"
          ],
          [
           0.6363636363636364,
           "rgb(225, 113, 97)"
          ],
          [
           0.7272727272727273,
           "rgb(246, 139, 69)"
          ],
          [
           0.8181818181818182,
           "rgb(251, 173, 60)"
          ],
          [
           0.9090909090909091,
           "rgb(246, 211, 70)"
          ],
          [
           1,
           "rgb(231, 250, 90)"
          ]
         ]
        },
        "height": 1000,
        "legend": {
         "tracegroupgap": 0
        },
        "template": {
         "data": {
          "bar": [
           {
            "error_x": {
             "color": "#2a3f5f"
            },
            "error_y": {
             "color": "#2a3f5f"
            },
            "marker": {
             "line": {
              "color": "#E5ECF6",
              "width": 0.5
             },
             "pattern": {
              "fillmode": "overlay",
              "size": 10,
              "solidity": 0.2
             }
            },
            "type": "bar"
           }
          ],
          "barpolar": [
           {
            "marker": {
             "line": {
              "color": "#E5ECF6",
              "width": 0.5
             },
             "pattern": {
              "fillmode": "overlay",
              "size": 10,
              "solidity": 0.2
             }
            },
            "type": "barpolar"
           }
          ],
          "carpet": [
           {
            "aaxis": {
             "endlinecolor": "#2a3f5f",
             "gridcolor": "white",
             "linecolor": "white",
             "minorgridcolor": "white",
             "startlinecolor": "#2a3f5f"
            },
            "baxis": {
             "endlinecolor": "#2a3f5f",
             "gridcolor": "white",
             "linecolor": "white",
             "minorgridcolor": "white",
             "startlinecolor": "#2a3f5f"
            },
            "type": "carpet"
           }
          ],
          "choropleth": [
           {
            "colorbar": {
             "outlinewidth": 0,
             "ticks": ""
            },
            "type": "choropleth"
           }
          ],
          "contour": [
           {
            "colorbar": {
             "outlinewidth": 0,
             "ticks": ""
            },
            "colorscale": [
             [
              0,
              "#0d0887"
             ],
             [
              0.1111111111111111,
              "#46039f"
             ],
             [
              0.2222222222222222,
              "#7201a8"
             ],
             [
              0.3333333333333333,
              "#9c179e"
             ],
             [
              0.4444444444444444,
              "#bd3786"
             ],
             [
              0.5555555555555556,
              "#d8576b"
             ],
             [
              0.6666666666666666,
              "#ed7953"
             ],
             [
              0.7777777777777778,
              "#fb9f3a"
             ],
             [
              0.8888888888888888,
              "#fdca26"
             ],
             [
              1,
              "#f0f921"
             ]
            ],
            "type": "contour"
           }
          ],
          "contourcarpet": [
           {
            "colorbar": {
             "outlinewidth": 0,
             "ticks": ""
            },
            "type": "contourcarpet"
           }
          ],
          "heatmap": [
           {
            "colorbar": {
             "outlinewidth": 0,
             "ticks": ""
            },
            "colorscale": [
             [
              0,
              "#0d0887"
             ],
             [
              0.1111111111111111,
              "#46039f"
             ],
             [
              0.2222222222222222,
              "#7201a8"
             ],
             [
              0.3333333333333333,
              "#9c179e"
             ],
             [
              0.4444444444444444,
              "#bd3786"
             ],
             [
              0.5555555555555556,
              "#d8576b"
             ],
             [
              0.6666666666666666,
              "#ed7953"
             ],
             [
              0.7777777777777778,
              "#fb9f3a"
             ],
             [
              0.8888888888888888,
              "#fdca26"
             ],
             [
              1,
              "#f0f921"
             ]
            ],
            "type": "heatmap"
           }
          ],
          "heatmapgl": [
           {
            "colorbar": {
             "outlinewidth": 0,
             "ticks": ""
            },
            "colorscale": [
             [
              0,
              "#0d0887"
             ],
             [
              0.1111111111111111,
              "#46039f"
             ],
             [
              0.2222222222222222,
              "#7201a8"
             ],
             [
              0.3333333333333333,
              "#9c179e"
             ],
             [
              0.4444444444444444,
              "#bd3786"
             ],
             [
              0.5555555555555556,
              "#d8576b"
             ],
             [
              0.6666666666666666,
              "#ed7953"
             ],
             [
              0.7777777777777778,
              "#fb9f3a"
             ],
             [
              0.8888888888888888,
              "#fdca26"
             ],
             [
              1,
              "#f0f921"
             ]
            ],
            "type": "heatmapgl"
           }
          ],
          "histogram": [
           {
            "marker": {
             "pattern": {
              "fillmode": "overlay",
              "size": 10,
              "solidity": 0.2
             }
            },
            "type": "histogram"
           }
          ],
          "histogram2d": [
           {
            "colorbar": {
             "outlinewidth": 0,
             "ticks": ""
            },
            "colorscale": [
             [
              0,
              "#0d0887"
             ],
             [
              0.1111111111111111,
              "#46039f"
             ],
             [
              0.2222222222222222,
              "#7201a8"
             ],
             [
              0.3333333333333333,
              "#9c179e"
             ],
             [
              0.4444444444444444,
              "#bd3786"
             ],
             [
              0.5555555555555556,
              "#d8576b"
             ],
             [
              0.6666666666666666,
              "#ed7953"
             ],
             [
              0.7777777777777778,
              "#fb9f3a"
             ],
             [
              0.8888888888888888,
              "#fdca26"
             ],
             [
              1,
              "#f0f921"
             ]
            ],
            "type": "histogram2d"
           }
          ],
          "histogram2dcontour": [
           {
            "colorbar": {
             "outlinewidth": 0,
             "ticks": ""
            },
            "colorscale": [
             [
              0,
              "#0d0887"
             ],
             [
              0.1111111111111111,
              "#46039f"
             ],
             [
              0.2222222222222222,
              "#7201a8"
             ],
             [
              0.3333333333333333,
              "#9c179e"
             ],
             [
              0.4444444444444444,
              "#bd3786"
             ],
             [
              0.5555555555555556,
              "#d8576b"
             ],
             [
              0.6666666666666666,
              "#ed7953"
             ],
             [
              0.7777777777777778,
              "#fb9f3a"
             ],
             [
              0.8888888888888888,
              "#fdca26"
             ],
             [
              1,
              "#f0f921"
             ]
            ],
            "type": "histogram2dcontour"
           }
          ],
          "mesh3d": [
           {
            "colorbar": {
             "outlinewidth": 0,
             "ticks": ""
            },
            "type": "mesh3d"
           }
          ],
          "parcoords": [
           {
            "line": {
             "colorbar": {
              "outlinewidth": 0,
              "ticks": ""
             }
            },
            "type": "parcoords"
           }
          ],
          "pie": [
           {
            "automargin": true,
            "type": "pie"
           }
          ],
          "scatter": [
           {
            "fillpattern": {
             "fillmode": "overlay",
             "size": 10,
             "solidity": 0.2
            },
            "type": "scatter"
           }
          ],
          "scatter3d": [
           {
            "line": {
             "colorbar": {
              "outlinewidth": 0,
              "ticks": ""
             }
            },
            "marker": {
             "colorbar": {
              "outlinewidth": 0,
              "ticks": ""
             }
            },
            "type": "scatter3d"
           }
          ],
          "scattercarpet": [
           {
            "marker": {
             "colorbar": {
              "outlinewidth": 0,
              "ticks": ""
             }
            },
            "type": "scattercarpet"
           }
          ],
          "scattergeo": [
           {
            "marker": {
             "colorbar": {
              "outlinewidth": 0,
              "ticks": ""
             }
            },
            "type": "scattergeo"
           }
          ],
          "scattergl": [
           {
            "marker": {
             "colorbar": {
              "outlinewidth": 0,
              "ticks": ""
             }
            },
            "type": "scattergl"
           }
          ],
          "scattermapbox": [
           {
            "marker": {
             "colorbar": {
              "outlinewidth": 0,
              "ticks": ""
             }
            },
            "type": "scattermapbox"
           }
          ],
          "scatterpolar": [
           {
            "marker": {
             "colorbar": {
              "outlinewidth": 0,
              "ticks": ""
             }
            },
            "type": "scatterpolar"
           }
          ],
          "scatterpolargl": [
           {
            "marker": {
             "colorbar": {
              "outlinewidth": 0,
              "ticks": ""
             }
            },
            "type": "scatterpolargl"
           }
          ],
          "scatterternary": [
           {
            "marker": {
             "colorbar": {
              "outlinewidth": 0,
              "ticks": ""
             }
            },
            "type": "scatterternary"
           }
          ],
          "surface": [
           {
            "colorbar": {
             "outlinewidth": 0,
             "ticks": ""
            },
            "colorscale": [
             [
              0,
              "#0d0887"
             ],
             [
              0.1111111111111111,
              "#46039f"
             ],
             [
              0.2222222222222222,
              "#7201a8"
             ],
             [
              0.3333333333333333,
              "#9c179e"
             ],
             [
              0.4444444444444444,
              "#bd3786"
             ],
             [
              0.5555555555555556,
              "#d8576b"
             ],
             [
              0.6666666666666666,
              "#ed7953"
             ],
             [
              0.7777777777777778,
              "#fb9f3a"
             ],
             [
              0.8888888888888888,
              "#fdca26"
             ],
             [
              1,
              "#f0f921"
             ]
            ],
            "type": "surface"
           }
          ],
          "table": [
           {
            "cells": {
             "fill": {
              "color": "#EBF0F8"
             },
             "line": {
              "color": "white"
             }
            },
            "header": {
             "fill": {
              "color": "#C8D4E3"
             },
             "line": {
              "color": "white"
             }
            },
            "type": "table"
           }
          ]
         },
         "layout": {
          "annotationdefaults": {
           "arrowcolor": "#2a3f5f",
           "arrowhead": 0,
           "arrowwidth": 1
          },
          "autotypenumbers": "strict",
          "coloraxis": {
           "colorbar": {
            "outlinewidth": 0,
            "ticks": ""
           }
          },
          "colorscale": {
           "diverging": [
            [
             0,
             "#8e0152"
            ],
            [
             0.1,
             "#c51b7d"
            ],
            [
             0.2,
             "#de77ae"
            ],
            [
             0.3,
             "#f1b6da"
            ],
            [
             0.4,
             "#fde0ef"
            ],
            [
             0.5,
             "#f7f7f7"
            ],
            [
             0.6,
             "#e6f5d0"
            ],
            [
             0.7,
             "#b8e186"
            ],
            [
             0.8,
             "#7fbc41"
            ],
            [
             0.9,
             "#4d9221"
            ],
            [
             1,
             "#276419"
            ]
           ],
           "sequential": [
            [
             0,
             "#0d0887"
            ],
            [
             0.1111111111111111,
             "#46039f"
            ],
            [
             0.2222222222222222,
             "#7201a8"
            ],
            [
             0.3333333333333333,
             "#9c179e"
            ],
            [
             0.4444444444444444,
             "#bd3786"
            ],
            [
             0.5555555555555556,
             "#d8576b"
            ],
            [
             0.6666666666666666,
             "#ed7953"
            ],
            [
             0.7777777777777778,
             "#fb9f3a"
            ],
            [
             0.8888888888888888,
             "#fdca26"
            ],
            [
             1,
             "#f0f921"
            ]
           ],
           "sequentialminus": [
            [
             0,
             "#0d0887"
            ],
            [
             0.1111111111111111,
             "#46039f"
            ],
            [
             0.2222222222222222,
             "#7201a8"
            ],
            [
             0.3333333333333333,
             "#9c179e"
            ],
            [
             0.4444444444444444,
             "#bd3786"
            ],
            [
             0.5555555555555556,
             "#d8576b"
            ],
            [
             0.6666666666666666,
             "#ed7953"
            ],
            [
             0.7777777777777778,
             "#fb9f3a"
            ],
            [
             0.8888888888888888,
             "#fdca26"
            ],
            [
             1,
             "#f0f921"
            ]
           ]
          },
          "colorway": [
           "#636efa",
           "#EF553B",
           "#00cc96",
           "#ab63fa",
           "#FFA15A",
           "#19d3f3",
           "#FF6692",
           "#B6E880",
           "#FF97FF",
           "#FECB52"
          ],
          "font": {
           "color": "#2a3f5f"
          },
          "geo": {
           "bgcolor": "white",
           "lakecolor": "white",
           "landcolor": "#E5ECF6",
           "showlakes": true,
           "showland": true,
           "subunitcolor": "white"
          },
          "hoverlabel": {
           "align": "left"
          },
          "hovermode": "closest",
          "mapbox": {
           "style": "light"
          },
          "paper_bgcolor": "white",
          "plot_bgcolor": "#E5ECF6",
          "polar": {
           "angularaxis": {
            "gridcolor": "white",
            "linecolor": "white",
            "ticks": ""
           },
           "bgcolor": "#E5ECF6",
           "radialaxis": {
            "gridcolor": "white",
            "linecolor": "white",
            "ticks": ""
           }
          },
          "scene": {
           "xaxis": {
            "backgroundcolor": "#E5ECF6",
            "gridcolor": "white",
            "gridwidth": 2,
            "linecolor": "white",
            "showbackground": true,
            "ticks": "",
            "zerolinecolor": "white"
           },
           "yaxis": {
            "backgroundcolor": "#E5ECF6",
            "gridcolor": "white",
            "gridwidth": 2,
            "linecolor": "white",
            "showbackground": true,
            "ticks": "",
            "zerolinecolor": "white"
           },
           "zaxis": {
            "backgroundcolor": "#E5ECF6",
            "gridcolor": "white",
            "gridwidth": 2,
            "linecolor": "white",
            "showbackground": true,
            "ticks": "",
            "zerolinecolor": "white"
           }
          },
          "shapedefaults": {
           "line": {
            "color": "#2a3f5f"
           }
          },
          "ternary": {
           "aaxis": {
            "gridcolor": "white",
            "linecolor": "white",
            "ticks": ""
           },
           "baxis": {
            "gridcolor": "white",
            "linecolor": "white",
            "ticks": ""
           },
           "bgcolor": "#E5ECF6",
           "caxis": {
            "gridcolor": "white",
            "linecolor": "white",
            "ticks": ""
           }
          },
          "title": {
           "x": 0.05
          },
          "xaxis": {
           "automargin": true,
           "gridcolor": "white",
           "linecolor": "white",
           "ticks": "",
           "title": {
            "standoff": 15
           },
           "zerolinecolor": "white",
           "zerolinewidth": 2
          },
          "yaxis": {
           "automargin": true,
           "gridcolor": "white",
           "linecolor": "white",
           "ticks": "",
           "title": {
            "standoff": 15
           },
           "zerolinecolor": "white",
           "zerolinewidth": 2
          }
         }
        },
        "title": {
         "text": "Happiness Score - region / sub region / country"
        },
        "width": 1000
       }
      }
     },
     "metadata": {},
     "output_type": "display_data"
    }
   ],
   "source": [
    "fig = px.sunburst(data_frame=df,\n",
    "                  path=[\"region\", \"sub_region\", \"country\"],\n",
    "                  values=\"happiness_score\",\n",
    "                  color=\"happiness_score\",\n",
    "                  color_continuous_scale='thermal',\n",
    "                  width=1000, \n",
    "                  height=1000,\n",
    "                  title = 'Happiness Score - region / sub region / country')\n",
    "fig.show()\n",
    "fig.write_html(\"sunburst.html\")"
   ]
  },
  {
   "cell_type": "code",
   "execution_count": 38,
   "metadata": {},
   "outputs": [
    {
     "data": {
      "application/vnd.plotly.v1+json": {
       "config": {
        "plotlyServerURL": "https://plot.ly"
       },
       "data": [
        {
         "autocolorscale": true,
         "colorbar": {
          "title": {
           "text": "Happiness<br>Score"
          }
         },
         "colorscale": [
          [
           0,
           "rgb(3, 35, 51)"
          ],
          [
           0.09090909090909091,
           "rgb(13, 48, 100)"
          ],
          [
           0.18181818181818182,
           "rgb(53, 50, 155)"
          ],
          [
           0.2727272727272727,
           "rgb(93, 62, 153)"
          ],
          [
           0.36363636363636365,
           "rgb(126, 77, 143)"
          ],
          [
           0.45454545454545453,
           "rgb(158, 89, 135)"
          ],
          [
           0.5454545454545454,
           "rgb(193, 100, 121)"
          ],
          [
           0.6363636363636364,
           "rgb(225, 113, 97)"
          ],
          [
           0.7272727272727273,
           "rgb(246, 139, 69)"
          ],
          [
           0.8181818181818182,
           "rgb(251, 173, 60)"
          ],
          [
           0.9090909090909091,
           "rgb(246, 211, 70)"
          ],
          [
           1,
           "rgb(231, 250, 90)"
          ]
         ],
         "locations": [
          "FIN",
          "DNK",
          "ISL",
          "ISR",
          "NLD",
          "SWE",
          "NOR",
          "CHE",
          "LUX",
          "NZL",
          "AUT",
          "AUS",
          "CAN",
          "IRL",
          "USA",
          "DEU",
          "BEL",
          "CZE",
          "GBR",
          "LTU",
          "FRA",
          "SVN",
          "CRI",
          "ROU",
          "SGP",
          "ARE",
          "TWN",
          "URY",
          "SVK",
          "SAU",
          "EST",
          "ESP",
          "ITA",
          "XXK",
          "CHL",
          "MEX",
          "MLT",
          "PAN",
          "POL",
          "NIC",
          "LVA",
          "BHR",
          "GTM",
          "KAZ",
          "SRB",
          "CYP",
          "JPN",
          "HRV",
          "BRA",
          "SLV",
          "HUN",
          "ARG",
          "HND",
          "UZB",
          "MYS",
          "PRT",
          "PRK",
          "GRC",
          "MUS",
          "THA",
          "MNG",
          "KGZ",
          "MDA",
          "CHN",
          "VNM",
          "PRY",
          "MNE",
          "JAM",
          "BOL",
          "RUS",
          "BIH",
          "COL",
          "DOM",
          "ECU",
          "PER",
          "PHL",
          "BGR",
          "NPL",
          "ARM",
          "TJK",
          "DZA",
          "HKG",
          "ALB",
          "IDN",
          "ZAF",
          "COG",
          "MKD",
          "VEN",
          "LAO",
          "GEO",
          "GIN",
          "UKR",
          "CIV",
          "GAB",
          "NGA",
          "CMR",
          "MOZ",
          "IRQ",
          "PSE",
          "MAR",
          "IRN",
          "SEN",
          "MRT",
          "BFA",
          "NAM",
          "TUR",
          "GHA",
          "PAK",
          "NER",
          "TUN",
          "KEN",
          "LKA",
          "UGA",
          "TCD",
          "KHM",
          "BEN",
          "MMR",
          "BGD",
          "GMB",
          "MLI",
          "EGY",
          "TGO",
          "JOR",
          "ETH",
          "LBR",
          "IND",
          "MDG",
          "ZMB",
          "TZA",
          "COM",
          "MWI",
          "BWA",
          "COD",
          "ZWE",
          "SLE",
          "LBN",
          "AFG"
         ],
         "marker": {
          "line": {
           "color": "black",
           "width": 0.5
          }
         },
         "text": [
          "Finland",
          "Denmark",
          "Iceland",
          "Israel",
          "Netherlands",
          "Sweden",
          "Norway",
          "Switzerland",
          "Luxembourg",
          "New Zealand",
          "Austria",
          "Australia",
          "Canada",
          "Ireland",
          "United States",
          "Germany",
          "Belgium",
          "Czechia",
          "United Kingdom",
          "Lithuania",
          "France",
          "Slovenia",
          "Costa Rica",
          "Romania",
          "Singapore",
          "United Arab Emirates",
          "Taiwan Province of China",
          "Uruguay",
          "Slovakia",
          "Saudi Arabia",
          "Estonia",
          "Spain",
          "Italy",
          "Kosovo",
          "Chile",
          "Mexico",
          "Malta",
          "Panama",
          "Poland",
          "Nicaragua",
          "Latvia",
          "Bahrain",
          "Guatemala",
          "Kazakhstan",
          "Serbia",
          "Cyprus",
          "Japan",
          "Croatia",
          "Brazil",
          "El Salvador",
          "Hungary",
          "Argentina",
          "Honduras",
          "Uzbekistan",
          "Malaysia",
          "Portugal",
          "South Korea",
          "Greece",
          "Mauritius",
          "Thailand",
          "Mongolia",
          "Kyrgyzstan",
          "Moldova",
          "China",
          "Vietnam",
          "Paraguay",
          "Montenegro",
          "Jamaica",
          "Bolivia",
          "Russia",
          "Bosnia and Herzegovina",
          "Colombia",
          "Dominican Republic",
          "Ecuador",
          "Peru",
          "Philippines",
          "Bulgaria",
          "Nepal",
          "Armenia",
          "Tajikistan",
          "Algeria",
          "Hong Kong S.A.R. of China",
          "Albania",
          "Indonesia",
          "South Africa",
          "Congo (Brazzaville)",
          "North Macedonia",
          "Venezuela",
          "Laos",
          "Georgia",
          "Guinea",
          "Ukraine",
          "Ivory Coast",
          "Gabon",
          "Nigeria",
          "Cameroon",
          "Mozambique",
          "Iraq",
          "State of Palestine",
          "Morocco",
          "Iran",
          "Senegal",
          "Mauritania",
          "Burkina Faso",
          "Namibia",
          "Turkiye",
          "Ghana",
          "Pakistan",
          "Niger",
          "Tunisia",
          "Kenya",
          "Sri Lanka",
          "Uganda",
          "Chad",
          "Cambodia",
          "Benin",
          "Myanmar",
          "Bangladesh",
          "Gambia",
          "Mali",
          "Egypt",
          "Togo",
          "Jordan",
          "Ethiopia",
          "Liberia",
          "India",
          "Madagascar",
          "Zambia",
          "Tanzania",
          "Comoros",
          "Malawi",
          "Botswana",
          "Congo (Kinshasa)",
          "Zimbabwe",
          "Sierra Leone",
          "Lebanon",
          "Afghanistan"
         ],
         "type": "choropleth",
         "z": [
          7.804,
          7.586,
          7.53,
          7.473,
          7.403,
          7.395,
          7.315,
          7.24,
          7.228,
          7.123,
          7.097,
          7.095,
          6.961,
          6.911,
          6.894,
          6.892,
          6.859,
          6.845,
          6.796,
          6.763,
          6.661,
          6.65,
          6.609,
          6.589,
          6.587,
          6.571,
          6.535,
          6.494,
          6.469,
          6.463,
          6.455,
          6.436,
          6.405,
          6.368,
          6.334,
          6.33,
          6.3,
          6.265,
          6.26,
          6.259,
          6.213,
          6.173,
          6.15,
          6.144,
          6.144,
          6.13,
          6.129,
          6.125,
          6.125,
          6.122,
          6.041,
          6.024,
          6.023,
          6.014,
          6.012,
          5.968,
          5.951,
          5.931,
          5.902,
          5.843,
          5.84,
          5.825,
          5.819,
          5.818,
          5.763,
          5.738,
          5.722,
          5.703,
          5.684,
          5.661,
          5.633,
          5.63,
          5.569,
          5.559,
          5.526,
          5.523,
          5.466,
          5.36,
          5.342,
          5.33,
          5.329,
          5.308,
          5.277,
          5.277,
          5.275,
          5.267,
          5.254,
          5.211,
          5.111,
          5.109,
          5.072,
          5.071,
          5.053,
          5.035,
          4.981,
          4.973,
          4.954,
          4.941,
          4.908,
          4.903,
          4.876,
          4.855,
          4.724,
          4.638,
          4.631,
          4.614,
          4.605,
          4.555,
          4.501,
          4.497,
          4.487,
          4.442,
          4.432,
          4.397,
          4.393,
          4.374,
          4.372,
          4.282,
          4.279,
          4.198,
          4.17,
          4.137,
          4.12,
          4.091,
          4.042,
          4.036,
          4.019,
          3.982,
          3.694,
          3.545,
          3.495,
          3.435,
          3.207,
          3.204,
          3.138,
          2.392,
          1.859
         ]
        }
       ],
       "layout": {
        "annotations": [
         {
          "showarrow": true,
          "text": "Source: <a href=\"https://worldhappiness.report/ed/2023/\">World Happiness Report 2023</a>",
          "x": 0.5,
          "y": 0.1
         }
        ],
        "geo": {
         "projection": {
          "type": "equirectangular"
         },
         "showcoastlines": false,
         "showframe": false
        },
        "height": 900,
        "template": {
         "data": {
          "bar": [
           {
            "error_x": {
             "color": "#2a3f5f"
            },
            "error_y": {
             "color": "#2a3f5f"
            },
            "marker": {
             "line": {
              "color": "#E5ECF6",
              "width": 0.5
             },
             "pattern": {
              "fillmode": "overlay",
              "size": 10,
              "solidity": 0.2
             }
            },
            "type": "bar"
           }
          ],
          "barpolar": [
           {
            "marker": {
             "line": {
              "color": "#E5ECF6",
              "width": 0.5
             },
             "pattern": {
              "fillmode": "overlay",
              "size": 10,
              "solidity": 0.2
             }
            },
            "type": "barpolar"
           }
          ],
          "carpet": [
           {
            "aaxis": {
             "endlinecolor": "#2a3f5f",
             "gridcolor": "white",
             "linecolor": "white",
             "minorgridcolor": "white",
             "startlinecolor": "#2a3f5f"
            },
            "baxis": {
             "endlinecolor": "#2a3f5f",
             "gridcolor": "white",
             "linecolor": "white",
             "minorgridcolor": "white",
             "startlinecolor": "#2a3f5f"
            },
            "type": "carpet"
           }
          ],
          "choropleth": [
           {
            "colorbar": {
             "outlinewidth": 0,
             "ticks": ""
            },
            "type": "choropleth"
           }
          ],
          "contour": [
           {
            "colorbar": {
             "outlinewidth": 0,
             "ticks": ""
            },
            "colorscale": [
             [
              0,
              "#0d0887"
             ],
             [
              0.1111111111111111,
              "#46039f"
             ],
             [
              0.2222222222222222,
              "#7201a8"
             ],
             [
              0.3333333333333333,
              "#9c179e"
             ],
             [
              0.4444444444444444,
              "#bd3786"
             ],
             [
              0.5555555555555556,
              "#d8576b"
             ],
             [
              0.6666666666666666,
              "#ed7953"
             ],
             [
              0.7777777777777778,
              "#fb9f3a"
             ],
             [
              0.8888888888888888,
              "#fdca26"
             ],
             [
              1,
              "#f0f921"
             ]
            ],
            "type": "contour"
           }
          ],
          "contourcarpet": [
           {
            "colorbar": {
             "outlinewidth": 0,
             "ticks": ""
            },
            "type": "contourcarpet"
           }
          ],
          "heatmap": [
           {
            "colorbar": {
             "outlinewidth": 0,
             "ticks": ""
            },
            "colorscale": [
             [
              0,
              "#0d0887"
             ],
             [
              0.1111111111111111,
              "#46039f"
             ],
             [
              0.2222222222222222,
              "#7201a8"
             ],
             [
              0.3333333333333333,
              "#9c179e"
             ],
             [
              0.4444444444444444,
              "#bd3786"
             ],
             [
              0.5555555555555556,
              "#d8576b"
             ],
             [
              0.6666666666666666,
              "#ed7953"
             ],
             [
              0.7777777777777778,
              "#fb9f3a"
             ],
             [
              0.8888888888888888,
              "#fdca26"
             ],
             [
              1,
              "#f0f921"
             ]
            ],
            "type": "heatmap"
           }
          ],
          "heatmapgl": [
           {
            "colorbar": {
             "outlinewidth": 0,
             "ticks": ""
            },
            "colorscale": [
             [
              0,
              "#0d0887"
             ],
             [
              0.1111111111111111,
              "#46039f"
             ],
             [
              0.2222222222222222,
              "#7201a8"
             ],
             [
              0.3333333333333333,
              "#9c179e"
             ],
             [
              0.4444444444444444,
              "#bd3786"
             ],
             [
              0.5555555555555556,
              "#d8576b"
             ],
             [
              0.6666666666666666,
              "#ed7953"
             ],
             [
              0.7777777777777778,
              "#fb9f3a"
             ],
             [
              0.8888888888888888,
              "#fdca26"
             ],
             [
              1,
              "#f0f921"
             ]
            ],
            "type": "heatmapgl"
           }
          ],
          "histogram": [
           {
            "marker": {
             "pattern": {
              "fillmode": "overlay",
              "size": 10,
              "solidity": 0.2
             }
            },
            "type": "histogram"
           }
          ],
          "histogram2d": [
           {
            "colorbar": {
             "outlinewidth": 0,
             "ticks": ""
            },
            "colorscale": [
             [
              0,
              "#0d0887"
             ],
             [
              0.1111111111111111,
              "#46039f"
             ],
             [
              0.2222222222222222,
              "#7201a8"
             ],
             [
              0.3333333333333333,
              "#9c179e"
             ],
             [
              0.4444444444444444,
              "#bd3786"
             ],
             [
              0.5555555555555556,
              "#d8576b"
             ],
             [
              0.6666666666666666,
              "#ed7953"
             ],
             [
              0.7777777777777778,
              "#fb9f3a"
             ],
             [
              0.8888888888888888,
              "#fdca26"
             ],
             [
              1,
              "#f0f921"
             ]
            ],
            "type": "histogram2d"
           }
          ],
          "histogram2dcontour": [
           {
            "colorbar": {
             "outlinewidth": 0,
             "ticks": ""
            },
            "colorscale": [
             [
              0,
              "#0d0887"
             ],
             [
              0.1111111111111111,
              "#46039f"
             ],
             [
              0.2222222222222222,
              "#7201a8"
             ],
             [
              0.3333333333333333,
              "#9c179e"
             ],
             [
              0.4444444444444444,
              "#bd3786"
             ],
             [
              0.5555555555555556,
              "#d8576b"
             ],
             [
              0.6666666666666666,
              "#ed7953"
             ],
             [
              0.7777777777777778,
              "#fb9f3a"
             ],
             [
              0.8888888888888888,
              "#fdca26"
             ],
             [
              1,
              "#f0f921"
             ]
            ],
            "type": "histogram2dcontour"
           }
          ],
          "mesh3d": [
           {
            "colorbar": {
             "outlinewidth": 0,
             "ticks": ""
            },
            "type": "mesh3d"
           }
          ],
          "parcoords": [
           {
            "line": {
             "colorbar": {
              "outlinewidth": 0,
              "ticks": ""
             }
            },
            "type": "parcoords"
           }
          ],
          "pie": [
           {
            "automargin": true,
            "type": "pie"
           }
          ],
          "scatter": [
           {
            "fillpattern": {
             "fillmode": "overlay",
             "size": 10,
             "solidity": 0.2
            },
            "type": "scatter"
           }
          ],
          "scatter3d": [
           {
            "line": {
             "colorbar": {
              "outlinewidth": 0,
              "ticks": ""
             }
            },
            "marker": {
             "colorbar": {
              "outlinewidth": 0,
              "ticks": ""
             }
            },
            "type": "scatter3d"
           }
          ],
          "scattercarpet": [
           {
            "marker": {
             "colorbar": {
              "outlinewidth": 0,
              "ticks": ""
             }
            },
            "type": "scattercarpet"
           }
          ],
          "scattergeo": [
           {
            "marker": {
             "colorbar": {
              "outlinewidth": 0,
              "ticks": ""
             }
            },
            "type": "scattergeo"
           }
          ],
          "scattergl": [
           {
            "marker": {
             "colorbar": {
              "outlinewidth": 0,
              "ticks": ""
             }
            },
            "type": "scattergl"
           }
          ],
          "scattermapbox": [
           {
            "marker": {
             "colorbar": {
              "outlinewidth": 0,
              "ticks": ""
             }
            },
            "type": "scattermapbox"
           }
          ],
          "scatterpolar": [
           {
            "marker": {
             "colorbar": {
              "outlinewidth": 0,
              "ticks": ""
             }
            },
            "type": "scatterpolar"
           }
          ],
          "scatterpolargl": [
           {
            "marker": {
             "colorbar": {
              "outlinewidth": 0,
              "ticks": ""
             }
            },
            "type": "scatterpolargl"
           }
          ],
          "scatterternary": [
           {
            "marker": {
             "colorbar": {
              "outlinewidth": 0,
              "ticks": ""
             }
            },
            "type": "scatterternary"
           }
          ],
          "surface": [
           {
            "colorbar": {
             "outlinewidth": 0,
             "ticks": ""
            },
            "colorscale": [
             [
              0,
              "#0d0887"
             ],
             [
              0.1111111111111111,
              "#46039f"
             ],
             [
              0.2222222222222222,
              "#7201a8"
             ],
             [
              0.3333333333333333,
              "#9c179e"
             ],
             [
              0.4444444444444444,
              "#bd3786"
             ],
             [
              0.5555555555555556,
              "#d8576b"
             ],
             [
              0.6666666666666666,
              "#ed7953"
             ],
             [
              0.7777777777777778,
              "#fb9f3a"
             ],
             [
              0.8888888888888888,
              "#fdca26"
             ],
             [
              1,
              "#f0f921"
             ]
            ],
            "type": "surface"
           }
          ],
          "table": [
           {
            "cells": {
             "fill": {
              "color": "#EBF0F8"
             },
             "line": {
              "color": "white"
             }
            },
            "header": {
             "fill": {
              "color": "#C8D4E3"
             },
             "line": {
              "color": "white"
             }
            },
            "type": "table"
           }
          ]
         },
         "layout": {
          "annotationdefaults": {
           "arrowcolor": "#2a3f5f",
           "arrowhead": 0,
           "arrowwidth": 1
          },
          "autotypenumbers": "strict",
          "coloraxis": {
           "colorbar": {
            "outlinewidth": 0,
            "ticks": ""
           }
          },
          "colorscale": {
           "diverging": [
            [
             0,
             "#8e0152"
            ],
            [
             0.1,
             "#c51b7d"
            ],
            [
             0.2,
             "#de77ae"
            ],
            [
             0.3,
             "#f1b6da"
            ],
            [
             0.4,
             "#fde0ef"
            ],
            [
             0.5,
             "#f7f7f7"
            ],
            [
             0.6,
             "#e6f5d0"
            ],
            [
             0.7,
             "#b8e186"
            ],
            [
             0.8,
             "#7fbc41"
            ],
            [
             0.9,
             "#4d9221"
            ],
            [
             1,
             "#276419"
            ]
           ],
           "sequential": [
            [
             0,
             "#0d0887"
            ],
            [
             0.1111111111111111,
             "#46039f"
            ],
            [
             0.2222222222222222,
             "#7201a8"
            ],
            [
             0.3333333333333333,
             "#9c179e"
            ],
            [
             0.4444444444444444,
             "#bd3786"
            ],
            [
             0.5555555555555556,
             "#d8576b"
            ],
            [
             0.6666666666666666,
             "#ed7953"
            ],
            [
             0.7777777777777778,
             "#fb9f3a"
            ],
            [
             0.8888888888888888,
             "#fdca26"
            ],
            [
             1,
             "#f0f921"
            ]
           ],
           "sequentialminus": [
            [
             0,
             "#0d0887"
            ],
            [
             0.1111111111111111,
             "#46039f"
            ],
            [
             0.2222222222222222,
             "#7201a8"
            ],
            [
             0.3333333333333333,
             "#9c179e"
            ],
            [
             0.4444444444444444,
             "#bd3786"
            ],
            [
             0.5555555555555556,
             "#d8576b"
            ],
            [
             0.6666666666666666,
             "#ed7953"
            ],
            [
             0.7777777777777778,
             "#fb9f3a"
            ],
            [
             0.8888888888888888,
             "#fdca26"
            ],
            [
             1,
             "#f0f921"
            ]
           ]
          },
          "colorway": [
           "#636efa",
           "#EF553B",
           "#00cc96",
           "#ab63fa",
           "#FFA15A",
           "#19d3f3",
           "#FF6692",
           "#B6E880",
           "#FF97FF",
           "#FECB52"
          ],
          "font": {
           "color": "#2a3f5f"
          },
          "geo": {
           "bgcolor": "white",
           "lakecolor": "white",
           "landcolor": "#E5ECF6",
           "showlakes": true,
           "showland": true,
           "subunitcolor": "white"
          },
          "hoverlabel": {
           "align": "left"
          },
          "hovermode": "closest",
          "mapbox": {
           "style": "light"
          },
          "paper_bgcolor": "white",
          "plot_bgcolor": "#E5ECF6",
          "polar": {
           "angularaxis": {
            "gridcolor": "white",
            "linecolor": "white",
            "ticks": ""
           },
           "bgcolor": "#E5ECF6",
           "radialaxis": {
            "gridcolor": "white",
            "linecolor": "white",
            "ticks": ""
           }
          },
          "scene": {
           "xaxis": {
            "backgroundcolor": "#E5ECF6",
            "gridcolor": "white",
            "gridwidth": 2,
            "linecolor": "white",
            "showbackground": true,
            "ticks": "",
            "zerolinecolor": "white"
           },
           "yaxis": {
            "backgroundcolor": "#E5ECF6",
            "gridcolor": "white",
            "gridwidth": 2,
            "linecolor": "white",
            "showbackground": true,
            "ticks": "",
            "zerolinecolor": "white"
           },
           "zaxis": {
            "backgroundcolor": "#E5ECF6",
            "gridcolor": "white",
            "gridwidth": 2,
            "linecolor": "white",
            "showbackground": true,
            "ticks": "",
            "zerolinecolor": "white"
           }
          },
          "shapedefaults": {
           "line": {
            "color": "#2a3f5f"
           }
          },
          "ternary": {
           "aaxis": {
            "gridcolor": "white",
            "linecolor": "white",
            "ticks": ""
           },
           "baxis": {
            "gridcolor": "white",
            "linecolor": "white",
            "ticks": ""
           },
           "bgcolor": "#E5ECF6",
           "caxis": {
            "gridcolor": "white",
            "linecolor": "white",
            "ticks": ""
           }
          },
          "title": {
           "x": 0.05
          },
          "xaxis": {
           "automargin": true,
           "gridcolor": "white",
           "linecolor": "white",
           "ticks": "",
           "title": {
            "standoff": 15
           },
           "zerolinecolor": "white",
           "zerolinewidth": 2
          },
          "yaxis": {
           "automargin": true,
           "gridcolor": "white",
           "linecolor": "white",
           "ticks": "",
           "title": {
            "standoff": 15
           },
           "zerolinecolor": "white",
           "zerolinewidth": 2
          }
         }
        },
        "title": {
         "text": "World Happiness Report 2023"
        },
        "width": 1400
       }
      }
     },
     "metadata": {},
     "output_type": "display_data"
    }
   ],
   "source": [
    "fig = go.Figure(data = go.Choropleth(\n",
    "    locations = df[\"iso_alpha\"],\n",
    "    z = df[\"happiness_score\"],\n",
    "    text = df[\"country\"],\n",
    "    colorscale = \"thermal\",\n",
    "    autocolorscale = True,\n",
    "    marker_line_color = \"black\",\n",
    "    marker_line_width = 0.5,\n",
    "    colorbar_title = \"Happiness<br>Score\",\n",
    "))\n",
    "\n",
    "fig.update_layout(\n",
    "    title_text = \"World Happiness Report 2023\",\n",
    "    geo = dict(\n",
    "        showframe = False,\n",
    "        showcoastlines = False,\n",
    "        projection_type = \"equirectangular\"\n",
    "    ),\n",
    "    width = 1400,\n",
    "    height = 900,\n",
    "    annotations = [dict(\n",
    "        x = 0.5,\n",
    "        y = 0.1,\n",
    "        text = 'Source: <a href=\"https://worldhappiness.report/ed/2023/\">World Happiness Report 2023</a>',\n",
    "        showarrow = True\n",
    "    )]\n",
    ")\n",
    "\n",
    "fig.show()\n",
    "fig.write_html(\"choropleth.html\")"
   ]
  }
 ],
 "metadata": {
  "kernelspec": {
   "display_name": "RUTDataViz2023",
   "language": "python",
   "name": "python3"
  },
  "language_info": {
   "codemirror_mode": {
    "name": "ipython",
    "version": 3
   },
   "file_extension": ".py",
   "mimetype": "text/x-python",
   "name": "python",
   "nbconvert_exporter": "python",
   "pygments_lexer": "ipython3",
   "version": "3.10.9"
  },
  "orig_nbformat": 4
 },
 "nbformat": 4,
 "nbformat_minor": 2
}
